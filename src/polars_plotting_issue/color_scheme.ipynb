{
 "cells": [
  {
   "cell_type": "code",
   "execution_count": null,
   "metadata": {},
   "outputs": [],
   "source": [
    "import sys\n",
    "\n",
    "import altair as alt\n",
    "import polars as pl\n",
    "\n",
    "alt.renderers.enable(\"svg\")\n",
    "\n",
    "data = pl.DataFrame(pl.Series(\"data\", [0, 1, 2])).with_row_index()\n",
    "\n",
    "print(\"the data df:\")\n",
    "sys.displayhook(data)\n",
    "\n",
    "print(\"a simple plot using polars:\")\n",
    "sys.displayhook(data.plot.bar(x=\"data\", y=\"data\", color=alt.Color(\"index\")))\n",
    "\n",
    "print(\"the same plot, using altair + vega directly:\")\n",
    "sys.displayhook(\n",
    "    alt.Chart(data)\n",
    "    .mark_bar()\n",
    "    .encode(\n",
    "        x=alt.X(\"data\"),\n",
    "        y=alt.Y(\"data\"),\n",
    "        color=alt.Color(\"index\"),\n",
    "    )\n",
    ")\n",
    "\n",
    "print(\"now with a color scheme, using altair + vega directly:\")\n",
    "sys.displayhook(\n",
    "    alt.Chart(data)\n",
    "    .mark_bar()\n",
    "    .encode(\n",
    "        x=alt.X(\"data\"),\n",
    "        y=alt.Y(\"data\"),\n",
    "        color=alt.Color(\"index\").scale(scheme=\"rainbow\"),\n",
    "    )\n",
    ")\n",
    "\n",
    "print(\"now with a color scheme, except using polars:\")\n",
    "sys.displayhook(\n",
    "    data.plot.bar(\n",
    "        x=\"data\", y=\"data\", color=alt.Color(\"index\").scale(scheme=\"rainbow\")\n",
    "    )\n",
    ")\n"
   ]
  }
 ],
 "metadata": {
  "kernelspec": {
   "display_name": ".venv",
   "language": "python",
   "name": "python3"
  },
  "language_info": {
   "codemirror_mode": {
    "name": "ipython",
    "version": 3
   },
   "file_extension": ".py",
   "mimetype": "text/x-python",
   "name": "python",
   "nbconvert_exporter": "python",
   "pygments_lexer": "ipython3",
   "version": "3.12.5"
  }
 },
 "nbformat": 4,
 "nbformat_minor": 2
}
